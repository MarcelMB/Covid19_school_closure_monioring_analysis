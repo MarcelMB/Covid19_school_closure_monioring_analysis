{
 "cells": [
  {
   "cell_type": "code",
   "execution_count": 25,
   "id": "0fcd62c9",
   "metadata": {},
   "outputs": [],
   "source": [
    "import pandas as pd \n",
    "import numpy as np\n",
    "import seaborn as sns\n",
    "import matplotlib.pyplot as plt\n",
    "import seaborn as sns\n",
    "%matplotlib inline\n",
    "from scipy import stats"
   ]
  },
  {
   "cell_type": "code",
   "execution_count": 2,
   "id": "75e17f47",
   "metadata": {},
   "outputs": [],
   "source": [
    "data = pd.read_csv('cleaned_UNESCO_school_closures_database.csv')"
   ]
  },
  {
   "cell_type": "code",
   "execution_count": 3,
   "id": "f4ef062a",
   "metadata": {},
   "outputs": [],
   "source": [
    "data['date']=pd.to_datetime(data['date'])"
   ]
  },
  {
   "cell_type": "markdown",
   "id": "cefe183d",
   "metadata": {},
   "source": [
    "## my hypothesis is that low income countries are on average more days fully closed than high income countries"
   ]
  },
  {
   "cell_type": "markdown",
   "id": "6886c1b6",
   "metadata": {},
   "source": [
    "the nully hypothesis Ho states that the mean is equal"
   ]
  },
  {
   "cell_type": "markdown",
   "id": "a582972f",
   "metadata": {},
   "source": [
    "we state as the alternative hypothesis that the mean values of low and high income countries are significantly different"
   ]
  },
  {
   "cell_type": "markdown",
   "id": "8098f7cc",
   "metadata": {},
   "source": [
    "with a two sample t-test I can find out if there is a signifcant difference between the two groups, the samples are indepedent since they belong to different country income groups"
   ]
  },
  {
   "cell_type": "markdown",
   "id": "32706b2a",
   "metadata": {},
   "source": [
    "the significance level will be 0.05"
   ]
  },
  {
   "cell_type": "markdown",
   "id": "fae58b94",
   "metadata": {},
   "source": [
    "#### get data"
   ]
  },
  {
   "cell_type": "code",
   "execution_count": 19,
   "id": "350006dd",
   "metadata": {},
   "outputs": [
    {
     "data": {
      "text/html": [
       "<div>\n",
       "<style scoped>\n",
       "    .dataframe tbody tr th:only-of-type {\n",
       "        vertical-align: middle;\n",
       "    }\n",
       "\n",
       "    .dataframe tbody tr th {\n",
       "        vertical-align: top;\n",
       "    }\n",
       "\n",
       "    .dataframe thead th {\n",
       "        text-align: right;\n",
       "    }\n",
       "</style>\n",
       "<table border=\"1\" class=\"dataframe\">\n",
       "  <thead>\n",
       "    <tr style=\"text-align: right;\">\n",
       "      <th></th>\n",
       "      <th>region_3</th>\n",
       "      <th>country</th>\n",
       "      <th>status</th>\n",
       "    </tr>\n",
       "  </thead>\n",
       "  <tbody>\n",
       "    <tr>\n",
       "      <th>0</th>\n",
       "      <td>High income</td>\n",
       "      <td>Andorra</td>\n",
       "      <td>107</td>\n",
       "    </tr>\n",
       "    <tr>\n",
       "      <th>1</th>\n",
       "      <td>High income</td>\n",
       "      <td>Antigua and Barbuda</td>\n",
       "      <td>199</td>\n",
       "    </tr>\n",
       "    <tr>\n",
       "      <th>2</th>\n",
       "      <td>High income</td>\n",
       "      <td>Aruba</td>\n",
       "      <td>54</td>\n",
       "    </tr>\n",
       "    <tr>\n",
       "      <th>3</th>\n",
       "      <td>High income</td>\n",
       "      <td>Australia</td>\n",
       "      <td>0</td>\n",
       "    </tr>\n",
       "    <tr>\n",
       "      <th>4</th>\n",
       "      <td>High income</td>\n",
       "      <td>Austria</td>\n",
       "      <td>108</td>\n",
       "    </tr>\n",
       "    <tr>\n",
       "      <th>...</th>\n",
       "      <td>...</td>\n",
       "      <td>...</td>\n",
       "      <td>...</td>\n",
       "    </tr>\n",
       "    <tr>\n",
       "      <th>195</th>\n",
       "      <td>Upper middle income</td>\n",
       "      <td>Tonga</td>\n",
       "      <td>18</td>\n",
       "    </tr>\n",
       "    <tr>\n",
       "      <th>196</th>\n",
       "      <td>Upper middle income</td>\n",
       "      <td>Turkey</td>\n",
       "      <td>196</td>\n",
       "    </tr>\n",
       "    <tr>\n",
       "      <th>197</th>\n",
       "      <td>Upper middle income</td>\n",
       "      <td>Turkmenistan</td>\n",
       "      <td>0</td>\n",
       "    </tr>\n",
       "    <tr>\n",
       "      <th>198</th>\n",
       "      <td>Upper middle income</td>\n",
       "      <td>Tuvalu</td>\n",
       "      <td>37</td>\n",
       "    </tr>\n",
       "    <tr>\n",
       "      <th>199</th>\n",
       "      <td>Upper middle income</td>\n",
       "      <td>Venezuela</td>\n",
       "      <td>424</td>\n",
       "    </tr>\n",
       "  </tbody>\n",
       "</table>\n",
       "<p>200 rows × 3 columns</p>\n",
       "</div>"
      ],
      "text/plain": [
       "                region_3              country  status\n",
       "0            High income              Andorra     107\n",
       "1            High income  Antigua and Barbuda     199\n",
       "2            High income                Aruba      54\n",
       "3            High income            Australia       0\n",
       "4            High income              Austria     108\n",
       "..                   ...                  ...     ...\n",
       "195  Upper middle income                Tonga      18\n",
       "196  Upper middle income               Turkey     196\n",
       "197  Upper middle income         Turkmenistan       0\n",
       "198  Upper middle income               Tuvalu      37\n",
       "199  Upper middle income            Venezuela     424\n",
       "\n",
       "[200 rows x 3 columns]"
      ]
     },
     "execution_count": 19,
     "metadata": {},
     "output_type": "execute_result"
    }
   ],
   "source": [
    "Closed=data.groupby(['region_3','country'])['status'].apply(lambda x: x[x.str.contains('Closed due to COVID-19')].count())                            \n",
    "closed_df=pd.DataFrame(Closed).reset_index()\n",
    "closed_df"
   ]
  },
  {
   "cell_type": "code",
   "execution_count": 22,
   "id": "30ea63a2",
   "metadata": {},
   "outputs": [
    {
     "data": {
      "text/plain": [
       "0     107\n",
       "1     199\n",
       "2      54\n",
       "3       0\n",
       "4     108\n",
       "     ... \n",
       "63    206\n",
       "64    103\n",
       "65    109\n",
       "66      0\n",
       "67     67\n",
       "Name: status, Length: 68, dtype: int64"
      ]
     },
     "execution_count": 22,
     "metadata": {},
     "output_type": "execute_result"
    }
   ],
   "source": [
    "# for each high income country average closed days\n",
    "High_income_closed=closed_df[closed_df['region_3']=='High income'].status\n",
    "High_income_closed"
   ]
  },
  {
   "cell_type": "code",
   "execution_count": 23,
   "id": "963fc414",
   "metadata": {},
   "outputs": [
    {
     "data": {
      "text/plain": [
       "68    243\n",
       "69     66\n",
       "70      0\n",
       "71     91\n",
       "72    161\n",
       "73    218\n",
       "74    168\n",
       "75     96\n",
       "76    149\n",
       "77    141\n",
       "78    151\n",
       "79    125\n",
       "80    128\n",
       "81    105\n",
       "82     41\n",
       "83    129\n",
       "84     87\n",
       "85    218\n",
       "86    115\n",
       "87    221\n",
       "88     75\n",
       "89    134\n",
       "90    231\n",
       "91    111\n",
       "92     77\n",
       "93      0\n",
       "94     74\n",
       "95    451\n",
       "96     98\n",
       "Name: status, dtype: int64"
      ]
     },
     "execution_count": 23,
     "metadata": {},
     "output_type": "execute_result"
    }
   ],
   "source": [
    "# for each low income country average closed days\n",
    "Low_income_closed=closed_df[closed_df['region_3']=='Low income'].status\n",
    "Low_income_closed"
   ]
  },
  {
   "cell_type": "markdown",
   "id": "e315cd53",
   "metadata": {},
   "source": [
    "## two-sided t-test"
   ]
  },
  {
   "cell_type": "code",
   "execution_count": 26,
   "id": "5b29bbac",
   "metadata": {},
   "outputs": [
    {
     "name": "stdout",
     "output_type": "stream",
     "text": [
      "t-stat: 1.41   pval: 0.1629\n"
     ]
    }
   ],
   "source": [
    "tstat, pval = stats.ttest_ind(a=Low_income_closed, b=High_income_closed, alternative=\"two-sided\")\n",
    "\n",
    "# Display results\n",
    "print(\"t-stat: {:.2f}   pval: {:.4f}\".format(tstat, pval))"
   ]
  },
  {
   "cell_type": "markdown",
   "id": "af1936f0",
   "metadata": {},
   "source": [
    "the p value is abover 0.05 there we can not reject thw null hypothesis, which means the low income and high income ocuntries average days of closing is not significantly different"
   ]
  },
  {
   "cell_type": "markdown",
   "id": "111cc4db",
   "metadata": {},
   "source": [
    "#### get mean and confidence interval for each group to check results"
   ]
  },
  {
   "cell_type": "markdown",
   "id": "92a67af9",
   "metadata": {},
   "source": [
    "##### high income"
   ]
  },
  {
   "cell_type": "code",
   "execution_count": 35,
   "id": "354f6892",
   "metadata": {},
   "outputs": [],
   "source": [
    "import scipy.stats\n",
    "\n",
    "confidence_level = 0.95\n",
    "degrees_freedom = len(High_income_closed) - 1  # or, for large values of sample size, just use that\n",
    "sample_mean = np.mean(High_income_closed)\n",
    "# note that we use the standard error of the sample \n",
    "# as an estimate of the standard error of the population (which is used in the theoretical formula)\n",
    "sample_standard_error = scipy.stats.sem(High_income_closed) # sem = standard error of the mean = std(mean[patients])/sqrt(samplesize)\n",
    "\n",
    "confidence_interval = scipy.stats.t.interval(confidence_level, \n",
    "                                             degrees_freedom, \n",
    "                                             sample_mean, \n",
    "                                             sample_standard_error)"
   ]
  },
  {
   "cell_type": "code",
   "execution_count": 36,
   "id": "ca0cf4a9",
   "metadata": {},
   "outputs": [
    {
     "data": {
      "text/plain": [
       "108.3529411764706"
      ]
     },
     "execution_count": 36,
     "metadata": {},
     "output_type": "execute_result"
    }
   ],
   "source": [
    "sample_mean"
   ]
  },
  {
   "cell_type": "code",
   "execution_count": 37,
   "id": "2f997f1d",
   "metadata": {},
   "outputs": [
    {
     "name": "stdout",
     "output_type": "stream",
     "text": [
      "confidence interval is  (88.30264684523122, 128.40323550770995) .\n"
     ]
    }
   ],
   "source": [
    "print( 'confidence interval is ', confidence_interval, '.' )"
   ]
  },
  {
   "cell_type": "markdown",
   "id": "d5ab0276",
   "metadata": {},
   "source": [
    "##### low income:"
   ]
  },
  {
   "cell_type": "code",
   "execution_count": 32,
   "id": "cc32b3af",
   "metadata": {},
   "outputs": [],
   "source": [
    "confidence_level = 0.95\n",
    "degrees_freedom = len(Low_income_closed) - 1  # or, for large values of sample size, just use that\n",
    "sample_mean = np.mean(Low_income_closed)\n",
    "# note that we use the standard error of the sample \n",
    "# as an estimate of the standard error of the population (which is used in the theoretical formula)\n",
    "sample_standard_error = scipy.stats.sem(Low_income_closed) # sem = standard error of the mean = std(mean[patients])/sqrt(samplesize)\n",
    "\n",
    "confidence_interval = scipy.stats.t.interval(confidence_level, \n",
    "                                             degrees_freedom, \n",
    "                                             sample_mean, \n",
    "                                             sample_standard_error)"
   ]
  },
  {
   "cell_type": "code",
   "execution_count": 33,
   "id": "7fe41e69",
   "metadata": {},
   "outputs": [
    {
     "data": {
      "text/plain": [
       "134.6206896551724"
      ]
     },
     "execution_count": 33,
     "metadata": {},
     "output_type": "execute_result"
    }
   ],
   "source": [
    "sample_mean"
   ]
  },
  {
   "cell_type": "code",
   "execution_count": 34,
   "id": "6a9894b6",
   "metadata": {},
   "outputs": [
    {
     "name": "stdout",
     "output_type": "stream",
     "text": [
      "confidence interval is  (101.36015831455487, 167.88122099578996) .\n"
     ]
    }
   ],
   "source": [
    "print( 'confidence interval is ', confidence_interval, '.' )"
   ]
  },
  {
   "cell_type": "markdown",
   "id": "8bfe623c",
   "metadata": {},
   "source": [
    "### the means are different but the confidence intervals are overlapping to some extent"
   ]
  }
 ],
 "metadata": {
  "kernelspec": {
   "display_name": "Python 3",
   "language": "python",
   "name": "python3"
  },
  "language_info": {
   "codemirror_mode": {
    "name": "ipython",
    "version": 3
   },
   "file_extension": ".py",
   "mimetype": "text/x-python",
   "name": "python",
   "nbconvert_exporter": "python",
   "pygments_lexer": "ipython3",
   "version": "3.8.8"
  }
 },
 "nbformat": 4,
 "nbformat_minor": 5
}
